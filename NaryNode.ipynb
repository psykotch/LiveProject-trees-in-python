{
 "cells": [
  {
   "cell_type": "code",
   "execution_count": 1,
   "id": "01e9c8f1",
   "metadata": {},
   "outputs": [],
   "source": [
    "run NaryNode.py\n"
   ]
  },
  {
   "cell_type": "code",
   "execution_count": 2,
   "id": "16678a82",
   "metadata": {},
   "outputs": [],
   "source": [
    "Root = NaryNode(\"Root\")"
   ]
  },
  {
   "cell_type": "code",
   "execution_count": 3,
   "id": "60b06f92",
   "metadata": {},
   "outputs": [],
   "source": [
    "Root.add_child(\"A\")"
   ]
  },
  {
   "cell_type": "code",
   "execution_count": 4,
   "id": "39ef1fc1",
   "metadata": {},
   "outputs": [
    {
     "name": "stdout",
     "output_type": "stream",
     "text": [
      "Root: \n",
      "  A: \n",
      "\n"
     ]
    }
   ],
   "source": [
    "print(str(Root))"
   ]
  },
  {
   "cell_type": "code",
   "execution_count": 5,
   "id": "1654050b",
   "metadata": {},
   "outputs": [],
   "source": [
    "Root.add_child(\"B\")"
   ]
  },
  {
   "cell_type": "code",
   "execution_count": 6,
   "id": "e51eb5f5",
   "metadata": {},
   "outputs": [
    {
     "name": "stdout",
     "output_type": "stream",
     "text": [
      "Root: \n",
      "  A: \n",
      "  B: \n",
      "\n"
     ]
    }
   ],
   "source": [
    "print(str(Root))"
   ]
  },
  {
   "cell_type": "code",
   "execution_count": 7,
   "id": "aa74cf93",
   "metadata": {},
   "outputs": [],
   "source": [
    "Root.children[0].add_child(\"C\")"
   ]
  },
  {
   "cell_type": "code",
   "execution_count": 8,
   "id": "30ab6874",
   "metadata": {},
   "outputs": [
    {
     "name": "stdout",
     "output_type": "stream",
     "text": [
      "Root: \n",
      "  A: \n",
      "    C: \n",
      "  B: \n",
      "\n"
     ]
    }
   ],
   "source": [
    "print(Root)"
   ]
  },
  {
   "cell_type": "code",
   "execution_count": 10,
   "id": "d9728121",
   "metadata": {},
   "outputs": [],
   "source": [
    "new = find_node(Root,\"C\")"
   ]
  },
  {
   "cell_type": "code",
   "execution_count": 11,
   "id": "fa49e9c0",
   "metadata": {},
   "outputs": [
    {
     "name": "stdout",
     "output_type": "stream",
     "text": [
      "C\n"
     ]
    }
   ],
   "source": [
    "print(new)"
   ]
  },
  {
   "cell_type": "code",
   "execution_count": null,
   "id": "cef02c70",
   "metadata": {},
   "outputs": [],
   "source": []
  }
 ],
 "metadata": {
  "kernelspec": {
   "display_name": "Python 3 (ipykernel)",
   "language": "python",
   "name": "python3"
  },
  "language_info": {
   "codemirror_mode": {
    "name": "ipython",
    "version": 3
   },
   "file_extension": ".py",
   "mimetype": "text/x-python",
   "name": "python",
   "nbconvert_exporter": "python",
   "pygments_lexer": "ipython3",
   "version": "3.9.7"
  }
 },
 "nbformat": 4,
 "nbformat_minor": 5
}
