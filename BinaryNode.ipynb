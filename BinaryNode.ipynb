{
 "cells": [
  {
   "cell_type": "code",
   "execution_count": 1,
   "id": "179147a0",
   "metadata": {},
   "outputs": [],
   "source": [
    "run BinaryNode.py"
   ]
  },
  {
   "cell_type": "code",
   "execution_count": null,
   "id": "121c7007",
   "metadata": {},
   "outputs": [],
   "source": []
  },
  {
   "cell_type": "code",
   "execution_count": 2,
   "id": "d75bddc9",
   "metadata": {},
   "outputs": [],
   "source": [
    "Root = BinaryNode(\"Root\")"
   ]
  },
  {
   "cell_type": "code",
   "execution_count": 3,
   "id": "8285c3bc",
   "metadata": {},
   "outputs": [],
   "source": [
    "Root.add_left(\"A\")"
   ]
  },
  {
   "cell_type": "code",
   "execution_count": 4,
   "id": "aef4987a",
   "metadata": {},
   "outputs": [],
   "source": [
    "Root.add_right(\"B\")"
   ]
  },
  {
   "cell_type": "code",
   "execution_count": 5,
   "id": "8eeb7e0c",
   "metadata": {},
   "outputs": [],
   "source": [
    "Root.left_child.add_left(\"C\")"
   ]
  },
  {
   "cell_type": "code",
   "execution_count": 6,
   "id": "1a0b9892",
   "metadata": {},
   "outputs": [],
   "source": [
    "Root.left_child.add_right(\"D\")"
   ]
  },
  {
   "cell_type": "code",
   "execution_count": 7,
   "id": "4931200a",
   "metadata": {},
   "outputs": [],
   "source": [
    "Root.right_child.add_right(\"E\")"
   ]
  },
  {
   "cell_type": "code",
   "execution_count": 8,
   "id": "0056462d",
   "metadata": {},
   "outputs": [],
   "source": [
    "Root.right_child.right_child.add_left(\"F\")"
   ]
  },
  {
   "cell_type": "code",
   "execution_count": 9,
   "id": "e3d3ea9a",
   "metadata": {},
   "outputs": [
    {
     "name": "stdout",
     "output_type": "stream",
     "text": [
      "Root: \n",
      "  A: \n",
      "      C: \n",
      "          None \n",
      "          None \n",
      "      D: \n",
      "          None \n",
      "          None \n",
      "  B: \n",
      "      None \n",
      "      E: \n",
      "          F: \n",
      "              None \n",
      "              None \n",
      "          None \n",
      "\n"
     ]
    }
   ],
   "source": [
    "print(str(Root))"
   ]
  },
  {
   "cell_type": "code",
   "execution_count": 10,
   "id": "63aecd04",
   "metadata": {},
   "outputs": [
    {
     "name": "stdout",
     "output_type": "stream",
     "text": [
      "A: \n",
      "  C: \n",
      "      None \n",
      "      None \n",
      "  D: \n",
      "      None \n",
      "      None \n",
      "\n"
     ]
    }
   ],
   "source": [
    "print(str(Root.left_child))"
   ]
  },
  {
   "cell_type": "code",
   "execution_count": 11,
   "id": "20663595",
   "metadata": {},
   "outputs": [
    {
     "name": "stdout",
     "output_type": "stream",
     "text": [
      "C: \n",
      "  None \n",
      "  None \n",
      "\n"
     ]
    }
   ],
   "source": [
    "print(str(Root.left_child.left_child))"
   ]
  },
  {
   "cell_type": "code",
   "execution_count": 12,
   "id": "89d2f3c7",
   "metadata": {},
   "outputs": [
    {
     "name": "stdout",
     "output_type": "stream",
     "text": [
      "D: \n",
      "  None \n",
      "  None \n",
      "\n"
     ]
    }
   ],
   "source": [
    "print(str(Root.left_child.right_child))"
   ]
  },
  {
   "cell_type": "code",
   "execution_count": 13,
   "id": "5668e79e",
   "metadata": {},
   "outputs": [
    {
     "name": "stdout",
     "output_type": "stream",
     "text": [
      "B: \n",
      "  None \n",
      "  E: \n",
      "      F: \n",
      "          None \n",
      "          None \n",
      "      None \n",
      "\n"
     ]
    }
   ],
   "source": [
    "print(str(Root.right_child))"
   ]
  },
  {
   "cell_type": "code",
   "execution_count": 14,
   "id": "af0cef9b",
   "metadata": {},
   "outputs": [
    {
     "name": "stdout",
     "output_type": "stream",
     "text": [
      "E: \n",
      "  F: \n",
      "      None \n",
      "      None \n",
      "  None \n",
      "\n"
     ]
    }
   ],
   "source": [
    "print(str(Root.right_child.right_child))"
   ]
  },
  {
   "cell_type": "code",
   "execution_count": 15,
   "id": "b8e16dac",
   "metadata": {
    "scrolled": true
   },
   "outputs": [
    {
     "name": "stdout",
     "output_type": "stream",
     "text": [
      "F: \n",
      "  None \n",
      "  None \n",
      "\n"
     ]
    }
   ],
   "source": [
    "print(str(Root.right_child.right_child.left_child))"
   ]
  },
  {
   "cell_type": "code",
   "execution_count": 16,
   "id": "5d2be71c",
   "metadata": {},
   "outputs": [],
   "source": [
    "new = find_node(Root,\"C\")"
   ]
  },
  {
   "cell_type": "code",
   "execution_count": 17,
   "id": "3ac292d9",
   "metadata": {},
   "outputs": [
    {
     "name": "stdout",
     "output_type": "stream",
     "text": [
      "C: \n",
      "  None \n",
      "  None \n",
      "\n"
     ]
    }
   ],
   "source": [
    "print(new)"
   ]
  },
  {
   "cell_type": "code",
   "execution_count": 18,
   "id": "a7c5db89",
   "metadata": {},
   "outputs": [
    {
     "name": "stdout",
     "output_type": "stream",
     "text": [
      "['Root', 'A', 'C', 'D', 'B', 'E', 'F']\n"
     ]
    }
   ],
   "source": [
    "print(Root.traverse_preorder())"
   ]
  },
  {
   "cell_type": "code",
   "execution_count": 19,
   "id": "ed8cecfa",
   "metadata": {},
   "outputs": [
    {
     "name": "stdout",
     "output_type": "stream",
     "text": [
      "['C', 'A', 'D', 'Root', 'B', 'F', 'E']\n"
     ]
    }
   ],
   "source": [
    "print(Root.traverse_inorder())"
   ]
  },
  {
   "cell_type": "code",
   "execution_count": 20,
   "id": "b040a728",
   "metadata": {},
   "outputs": [
    {
     "name": "stdout",
     "output_type": "stream",
     "text": [
      "['C', 'D', 'A', 'F', 'E', 'B', 'Root']\n"
     ]
    }
   ],
   "source": [
    "print(Root.traverse_postorder())"
   ]
  },
  {
   "cell_type": "code",
   "execution_count": 21,
   "id": "6f8b5720",
   "metadata": {},
   "outputs": [
    {
     "name": "stdout",
     "output_type": "stream",
     "text": [
      "['Root', 'A', 'B', 'C', 'D', 'E', 'F']\n"
     ]
    }
   ],
   "source": [
    "print(Root.traverse_breadth_first())"
   ]
  },
  {
   "cell_type": "code",
   "execution_count": null,
   "id": "976708f9",
   "metadata": {},
   "outputs": [],
   "source": []
  }
 ],
 "metadata": {
  "kernelspec": {
   "display_name": "Python 3 (ipykernel)",
   "language": "python",
   "name": "python3"
  },
  "language_info": {
   "codemirror_mode": {
    "name": "ipython",
    "version": 3
   },
   "file_extension": ".py",
   "mimetype": "text/x-python",
   "name": "python",
   "nbconvert_exporter": "python",
   "pygments_lexer": "ipython3",
   "version": "3.9.7"
  }
 },
 "nbformat": 4,
 "nbformat_minor": 5
}
